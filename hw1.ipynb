{
  "cells": [
    {
      "cell_type": "markdown",
      "source": [
        "# Checkpointing\n",
        "\n",
        "Your task is to implement checkpointing for a MLP using NumPy.\n",
        "\n",
        "You are free to use the implementation of a MLP and the backpropagation algorithm that you have developed during lab sessions.\n",
        "\n",
        "The key takeaway from this task is that with checkpointing we can trade off the computational resources needed to compute the forward pass of the network for the memory requirement needed to perform a backward pass in the network, which is often a major bottleneck when training large networks. In plain english, we can slightly increase the time required for training our network to save some of our GPU's precious memory.\n",
        "\n",
        "## What is checkpointing?\n",
        "\n",
        "The aim of checkpointing is to save every $n$-th layer's (e.g. every 2-nd layer's) forward result (instead of saving every layer's forward result as in plain backpropagation) and use these checkpoints for recomputing the forward pass of the network upon doing a backward pass. Checkpoint layers are kept in memory after the forward pass, while the remaining activations are recomputed at most once. After being recomputed, the non-checkpoint layers are kept in memory until they are no longer required."
      ],
      "metadata": {
        "collapsed": false,
        "id": "tLSEJN4w_qiA"
      }
    },
    {
      "cell_type": "markdown",
      "source": [
        "# What should be done\n",
        "\n",
        "1. Take the implementation a MLP trained with backpropagation. Analyze the algorithm with respect to the memory that is used by the algorithm with respect to the number of hidden layers.\n",
        "\n",
        "2. Implement a class NetworkWithCheckpointing that inherits from the Network class defined during lab sessions by:\n",
        "    a) implementing a method `forward_between_checkpoints` that will recompute the forward pass of the network using one of the checkpointed layers\n",
        "    b) override the method `backprop` to use only checkpointed layers and otherwise compute the activations using `forward_between_checkpoints` method and keep it in memory until no longer needed.\n",
        "\n",
        "3. Train your network with checkpoinintg on MNIST. Compare running times and memory usage with respect to the network without checkpointing.\n"
      ],
      "metadata": {
        "collapsed": false,
        "id": "Dup0n9O7_qiF"
      }
    },
    {
      "cell_type": "markdown",
      "source": [
        "# Implement Checkpointing for a MLP"
      ],
      "metadata": {
        "collapsed": false,
        "id": "yLBnOGZk_qiG"
      }
    },
    {
      "cell_type": "code",
      "execution_count": 1,
      "outputs": [],
      "source": [
        "import random\n",
        "import numpy as np\n",
        "import math\n",
        "from torchvision import datasets, transforms"
      ],
      "metadata": {
        "id": "6PTwbzPr_qiH"
      }
    },
    {
      "cell_type": "code",
      "execution_count": 2,
      "outputs": [
        {
          "output_type": "stream",
          "name": "stdout",
          "text": [
            "--2022-11-14 10:08:23--  https://s3.amazonaws.com/img-datasets/mnist.npz\n",
            "Resolving s3.amazonaws.com (s3.amazonaws.com)... 54.231.132.224\n",
            "Connecting to s3.amazonaws.com (s3.amazonaws.com)|54.231.132.224|:443... connected.\n",
            "HTTP request sent, awaiting response... 200 OK\n",
            "Length: 11490434 (11M) [application/octet-stream]\n",
            "Saving to: ‘mnist.npz’\n",
            "\n",
            "\rmnist.npz             0%[                    ]       0  --.-KB/s               \rmnist.npz           100%[===================>]  10.96M  --.-KB/s    in 0.1s    \n",
            "\n",
            "2022-11-14 10:08:23 (97.4 MB/s) - ‘mnist.npz’ saved [11490434/11490434]\n",
            "\n"
          ]
        }
      ],
      "source": [
        "!wget -O mnist.npz https://s3.amazonaws.com/img-datasets/mnist.npz"
      ],
      "metadata": {
        "id": "PUErwp4N_qiI",
        "outputId": "d7d49dbe-c0f6-4351-fc25-38aa196bd0a5",
        "colab": {
          "base_uri": "https://localhost:8080/"
        }
      }
    },
    {
      "cell_type": "code",
      "execution_count": 3,
      "outputs": [],
      "source": [
        "# Let's read the mnist dataset\n",
        "\n",
        "def load_mnist(path='mnist.npz'):\n",
        "    with np.load(path) as f:\n",
        "        x_train, _y_train = f['x_train'], f['y_train']\n",
        "        x_test, _y_test = f['x_test'], f['y_test']\n",
        "\n",
        "    x_train = x_train.reshape(-1, 28 * 28) / 255.\n",
        "    x_test = x_test.reshape(-1, 28 * 28) / 255.\n",
        "\n",
        "    y_train = np.zeros((_y_train.shape[0], 10))\n",
        "    y_train[np.arange(_y_train.shape[0]), _y_train] = 1\n",
        "\n",
        "    y_test = np.zeros((_y_test.shape[0], 10))\n",
        "    y_test[np.arange(_y_test.shape[0]), _y_test] = 1\n",
        "\n",
        "    return (x_train, y_train), (x_test, y_test)\n",
        "\n",
        "(x_train, y_train), (x_test, y_test) = load_mnist()"
      ],
      "metadata": {
        "id": "8MLxmQEi_qiJ"
      }
    },
    {
      "cell_type": "code",
      "execution_count": 4,
      "outputs": [
        {
          "output_type": "stream",
          "name": "stdout",
          "text": [
            "Epoch: 0, Accuracy: 0.7828\n",
            "Epoch: 1, Accuracy: 0.8629\n",
            "Epoch: 2, Accuracy: 0.8856\n",
            "Epoch: 3, Accuracy: 0.8972\n",
            "Epoch: 4, Accuracy: 0.9067\n",
            "Epoch: 5, Accuracy: 0.912\n",
            "Epoch: 6, Accuracy: 0.9169\n",
            "Epoch: 7, Accuracy: 0.9207\n",
            "Epoch: 8, Accuracy: 0.9246\n",
            "Epoch: 9, Accuracy: 0.9278\n"
          ]
        }
      ],
      "source": [
        "def sigmoid(z):\n",
        "    return 1.0/(1.0+np.exp(-z))\n",
        "\n",
        "def sigmoid_prime(z):\n",
        "    # Derivative of the sigmoid\n",
        "    return sigmoid(z)*(1-sigmoid(z))\n",
        "\n",
        "class Network(object):\n",
        "    def __init__(self, sizes):\n",
        "        # initialize biases and weights with random normal distr.\n",
        "        # weights are indexed by target node first\n",
        "        self.num_layers = len(sizes)\n",
        "        self.sizes = sizes\n",
        "        self.biases = [np.random.randn(y, 1) for y in sizes[1:]]\n",
        "        self.weights = [np.random.randn(y, x) \n",
        "                        for x, y in zip(sizes[:-1], sizes[1:])]\n",
        "\n",
        "    def feedforward(self, a):\n",
        "        for b, w in zip(self.biases, self.weights):\n",
        "            a = sigmoid(np.dot(w, a)+b)\n",
        "        return a\n",
        "    \n",
        "    def update_mini_batch(self, x_mini_batch, y_mini_batch, eta):\n",
        "        delta_nabla_b, delta_nabla_w = self.backprop(x_mini_batch.T,y_mini_batch.T)\n",
        "        self.weights = [w-(eta/len(x_mini_batch))*nw \n",
        "                        for w, nw in zip(self.weights, delta_nabla_w)]\n",
        "        self.biases = [b-(eta/len(x_mini_batch))*nb \n",
        "                       for b, nb in zip(self.biases, delta_nabla_b)]\n",
        "        \n",
        "    def cost_derivative(self, output_activations, y):\n",
        "        return (output_activations-y) \n",
        "\n",
        "    def backprop(self, x, y):\n",
        "        delta_nabla_b = [np.zeros_like(p) for p in self.biases]\n",
        "        delta_nabla_w = [np.zeros_like(p) for p in self.weights]\n",
        "        \n",
        "        gs = [x]\n",
        "\n",
        "        for b, w in zip(self.biases, self.weights):\n",
        "          x = np.dot(w, x)+b\n",
        "          x = sigmoid(x)\n",
        "          gs.append(x)\n",
        "\n",
        "        delta_g = self.cost_derivative(x, y)\n",
        "\n",
        "        i = 1\n",
        "        for b, w in zip(self.biases, self.weights):\n",
        "          delta_f = np.multiply(np.multiply(delta_g, gs[-i]), (np.ones_like(gs[-i]) - gs[-i]))\n",
        "\n",
        "          delta_nabla_w[-i] = delta_f @ (gs[-(i+1)].T)\n",
        "          delta_nabla_b[-i] = np.sum(delta_f, axis=1).reshape(len(self.biases[-i]), 1)\n",
        "\n",
        "          delta_g = self.weights[-i].T @ delta_f\n",
        "          i += 1\n",
        "        \n",
        "        return delta_nabla_b, delta_nabla_w\n",
        "\n",
        "    def evaluate(self, x_test_data, y_test_data):\n",
        "        # Count the number of correct answers for test_data\n",
        "        test_results = [(np.argmax(self.feedforward(x_test_data[i].reshape(784,1))), np.argmax(y_test_data[i]))\n",
        "                        for i in range(len(x_test_data))]\n",
        "        # return accuracy\n",
        "        return np.mean([int(x == y) for (x, y) in test_results])\n",
        "    \n",
        "    def SGD(self, training_data, epochs, mini_batch_size, eta, test_data=None):\n",
        "        x_train, y_train = training_data\n",
        "        if test_data:\n",
        "            x_test, y_test = test_data\n",
        "        for j in range(epochs):\n",
        "            for i in range(x_train.shape[0] // mini_batch_size):\n",
        "                x_mini_batch = x_train[i*mini_batch_size:(i*mini_batch_size + mini_batch_size)] \n",
        "                y_mini_batch = y_train[i*mini_batch_size:(i*mini_batch_size + mini_batch_size)] \n",
        "                self.update_mini_batch(x_mini_batch, y_mini_batch, eta)\n",
        "            if test_data:\n",
        "                print(\"Epoch: {0}, Accuracy: {1}\".format(j, self.evaluate(x_test, y_test)))\n",
        "            else:\n",
        "                print(\"Epoch: {0}\".format(j))\n",
        "\n",
        "\n",
        "network = Network([784,100,30,20,10])\n",
        "network.SGD((x_train, y_train), epochs=10, mini_batch_size=100, eta=3., test_data=(x_test, y_test))\n"
      ],
      "metadata": {
        "id": "vBv1JtdO_qiK",
        "colab": {
          "base_uri": "https://localhost:8080/"
        },
        "outputId": "ea1f4ddd-bdf5-469a-9e0c-084892418c9a"
      }
    },
    {
      "cell_type": "code",
      "execution_count": 5,
      "outputs": [
        {
          "output_type": "stream",
          "name": "stdout",
          "text": [
            "Epoch: 0, Accuracy: 0.7871\n",
            "Epoch: 1, Accuracy: 0.862\n",
            "Epoch: 2, Accuracy: 0.8883\n",
            "Epoch: 3, Accuracy: 0.9025\n",
            "Epoch: 4, Accuracy: 0.9105\n",
            "Epoch: 5, Accuracy: 0.9158\n",
            "Epoch: 6, Accuracy: 0.9201\n",
            "Epoch: 7, Accuracy: 0.9219\n",
            "Epoch: 8, Accuracy: 0.9243\n",
            "Epoch: 9, Accuracy: 0.9259\n"
          ]
        }
      ],
      "source": [
        "class NetworkWithCheckpointing(Network):\n",
        "\n",
        "    def __init__(self, sizes, checkpoint_interval: int = 2, *args, **kwargs):\n",
        "        super().__init__(sizes, *args, **kwargs)\n",
        "        self.checkpoint_interval = checkpoint_interval\n",
        "        assert self.checkpoint_interval > 0\n",
        "        checkpoint_count = len(sizes) // self.checkpoint_interval\n",
        "\n",
        "    def forward_between_checkpoints(self, checkpoints_g, checkpoint_idx_start, layer_idx_start, layer_idx_end):\n",
        "        gs = [checkpoints_g[checkpoint_idx_start]]\n",
        "        a = gs[0]\n",
        "        \n",
        "        for b, w in zip(self.biases[layer_idx_start : layer_idx_end ], self.weights[layer_idx_start : layer_idx_end]):\n",
        "          a = sigmoid(np.dot(w, a)+b)\n",
        "          gs.append(a)\n",
        "\n",
        "        gs.reverse()\n",
        "        return gs\n",
        "\n",
        "    def backprop(self, x, y):\n",
        "        delta_nabla_b = [np.zeros_like(p) for p in self.biases]\n",
        "        delta_nabla_w = [np.zeros_like(p) for p in self.weights]\n",
        "\n",
        "        checkpoints_g = []\n",
        "        checkpoints_g.append(x)\n",
        "        # 1st checkpoint is at index=0, 2nd at index=checkpoint_interval, 3rd at index=2*checkpoint_interval etc\n",
        "        i = 1\n",
        "        for b, w in zip(self.biases, self.weights):\n",
        "          x = sigmoid(np.dot(w, x)+b)\n",
        "          if (i % self.checkpoint_interval == 0 and i != len(self.biases)): # no checkpoint on last layer, just keep variable x\n",
        "            checkpoints_g.append(x)\n",
        "          i += 1\n",
        "\n",
        "        delta_g = self.cost_derivative(x, y)\n",
        "        current_layer = len(self.biases)\n",
        "        current_checkpoint = len(checkpoints_g) - 1\n",
        "        while (current_layer > 0):\n",
        "          gs = self.forward_between_checkpoints(checkpoints_g, current_checkpoint, current_checkpoint * self.checkpoint_interval, current_layer)\n",
        "\n",
        "          for j in range(len(gs) - 1):\n",
        "            delta_f = np.multiply(np.multiply(delta_g, gs[j]), (np.ones_like(gs[j]) - gs[j]))\n",
        "\n",
        "            delta_nabla_w[current_layer - 1] = delta_f @ (gs[j + 1].T)\n",
        "            delta_nabla_b[current_layer - 1] = np.sum(delta_f, axis=1).reshape(len(self.biases[current_layer - 1]), 1)\n",
        "\n",
        "            delta_g = self.weights[current_layer - 1].T @ delta_f\n",
        "            current_layer -= 1\n",
        "            \n",
        "          current_checkpoint -= 1\n",
        "        \n",
        "        return delta_nabla_b, delta_nabla_w\n",
        "\n",
        "network = NetworkWithCheckpointing([784,200,30,20,10], 2)\n",
        "network.SGD((x_train, y_train), epochs=10, mini_batch_size=100, eta=3., test_data=(x_test, y_test))"
      ],
      "metadata": {
        "id": "91mSD1a3_qiK",
        "colab": {
          "base_uri": "https://localhost:8080/"
        },
        "outputId": "64551ee7-309b-4ca9-cfb9-a54c5a912b0e"
      }
    },
    {
      "cell_type": "markdown",
      "source": [
        "N = total number of layers\n",
        "\n",
        "**Memory usage:**\n",
        "\n",
        "Decreased roughly by a factor of checkpoint_interval when using checkpoint as opposed to keeping all values in memory.\n",
        "\n",
        "Layers kept in memory without checkpoints: N\n",
        "\n",
        "Layers kept in memory with checkpoints: N / checkpoint_interval + checkpoint_interval\n",
        "\n",
        "**Running time:**\n",
        "\n",
        "The major difference is that in the checkpoint version backprop effectively needs to calculate the forward pass again, in checkpoint_interval-sized chunks, so total work is significantly increased. \n",
        "\n",
        "Operations without checkpoints: 1N forward pass ops + N backprop ops\n",
        "\n",
        "Operations with checkpoints: 2N forward pass ops + 1N backprop ops"
      ],
      "metadata": {
        "id": "57gX0-nM6jA_"
      }
    }
  ],
  "metadata": {
    "kernelspec": {
      "display_name": "Python 3",
      "language": "python",
      "name": "python3"
    },
    "language_info": {
      "codemirror_mode": {
        "name": "ipython",
        "version": 2
      },
      "file_extension": ".py",
      "mimetype": "text/x-python",
      "name": "python",
      "nbconvert_exporter": "python",
      "pygments_lexer": "ipython2",
      "version": "2.7.6"
    },
    "colab": {
      "provenance": [],
      "collapsed_sections": []
    }
  },
  "nbformat": 4,
  "nbformat_minor": 0
}